{
  "nbformat": 4,
  "nbformat_minor": 0,
  "metadata": {
    "colab": {
      "provenance": []
    },
    "kernelspec": {
      "name": "python3",
      "display_name": "Python 3"
    },
    "language_info": {
      "name": "python"
    }
  },
  "cells": [
    {
      "cell_type": "code",
      "execution_count": 1,
      "metadata": {
        "id": "KF1xM6CIHrQk"
      },
      "outputs": [],
      "source": [
        "import cv2\n",
        "import numpy as np\n",
        "import pandas\n",
        "import imageio.v3 as io\n",
        "\n",
        "from tqdm import tqdm\n",
        "from typing import Optional, Union"
      ]
    },
    {
      "cell_type": "code",
      "source": [
        "def download_images(paths: list,\n",
        "                    canvas: tuple = (224, 224),\n",
        "                    nb_channels: int = 3,\n",
        "                    max_imgs: Optional[int] = None\n",
        "                    ) -> tuple:\n",
        "  \"\"\" Download a list of images from url adresses, converting them to a specific\n",
        "  canvas size.\n",
        "\n",
        "  Args:\n",
        "    paths: Paths or url adresses from which to load images.\n",
        "    canvas: Desired image width and height.\n",
        "    nb_channels: Channels in images (1 for B/W, 3 for RGB).\n",
        "    max_imgs: Upper threshold in the number of images to download.\n",
        "\n",
        "  Return:\n",
        "    a tuple of:\n",
        "      - image values\n",
        "      - indices within the paths that were successfull.\n",
        "\n",
        "  \"\"\"\n",
        "  n_images = len(paths) if not max_imgs else max_imgs\n",
        "  images = np.zeros((n_images, canvas[0], canvas[1], nb_channels),\n",
        "                       dtype=np.uint8)\n",
        "  downloaded_idxs = []\n",
        "\n",
        "  for i_img, url in enumerate(tqdm(paths, total=n_images)):\n",
        "    if i_img >= n_images:\n",
        "      break\n",
        "    try:\n",
        "        img = io.imread(url)\n",
        "        img = cv2.resize(img, (canvas[0], canvas[1]))\n",
        "        downloaded_idxs.append(i_img)\n",
        "        images[i_img] = img\n",
        "    except (IOError, ValueError) as e:  # Unavailable url / conversion error\n",
        "        pass\n",
        "  return images[downloaded_idxs], downloaded_idxs"
      ],
      "metadata": {
        "id": "23mejqJccXpL"
      },
      "execution_count": 4,
      "outputs": []
    },
    {
      "cell_type": "markdown",
      "source": [
        "# OBTENIENDO LOS DATOS"
      ],
      "metadata": {
        "id": "3AG2gRahHsXL"
      }
    },
    {
      "cell_type": "code",
      "source": [
        "# descargamos los datos\n",
        "data = pandas.read_csv(\"dataset.csv\", sep = ';')\n",
        "\n",
        "# eliminamos los valores nulos de price\n",
        "data = data.dropna(subset=['price'])\n",
        "\n",
        "# eliminamos posibles filas duplicadas\n",
        "data = data.drop_duplicates()\n",
        "\n",
        "# descargamos las imagenes para obtener saber que datos vamos a usar\n",
        "_ , idx = download_images(data['picture_url'])\n",
        "\n",
        "# almacenamos los datos los idxs de los datos tabulares\n",
        "data_filtered = data.iloc[idx]\n",
        "\n",
        "# seleccionamos las columnas con las que vayamos a trabajar\n",
        "data_filtered = data_filtered.filter(['property_type', 'room_type', 'accommodates', 'bathrooms', 'bedrooms', 'beds', 'minimum_nights', 'maximum_nights', 'number_of_reviews','latitude', 'longitude', 'neighbourhood_cleansed', 'bathrooms_text', 'price'])\n",
        "\n",
        "# eliminamos el simbolo del dolar y lo convertirmos a numerico\n",
        "data_filtered['price'] = data_filtered['price'].str.lstrip('$')\n",
        "data_filtered['price'] = data_filtered['price'].str.replace(',', '').astype(float)"
      ],
      "metadata": {
        "colab": {
          "base_uri": "https://localhost:8080/"
        },
        "id": "Dm9R788vZOHX",
        "outputId": "b6412050-6766-4f8d-b1e8-3ce72813bd64"
      },
      "execution_count": 5,
      "outputs": [
        {
          "output_type": "stream",
          "name": "stderr",
          "text": [
            "100%|██████████| 3600/3600 [16:13<00:00,  3.70it/s]\n"
          ]
        }
      ]
    },
    {
      "cell_type": "code",
      "source": [
        "# numpy.save('images.npy', images)\n",
        "data_filtered.to_csv('filtered_data.csv', sep=';', index=False)"
      ],
      "metadata": {
        "id": "4bR1nd3v6K7o"
      },
      "execution_count": 6,
      "outputs": []
    },
    {
      "cell_type": "markdown",
      "source": [
        "# Modelo de regresión"
      ],
      "metadata": {
        "id": "8N7D6UtHaK1M"
      }
    },
    {
      "cell_type": "markdown",
      "source": [
        "## Dividimos los datos"
      ],
      "metadata": {
        "id": "Zhcq7jL5avVF"
      }
    },
    {
      "cell_type": "code",
      "source": [
        "from sklearn.model_selection import train_test_split\n",
        "\n",
        "# dividimos los datos\n",
        "train, test = train_test_split(data_filtered, test_size=0.2, shuffle=True, random_state=0)\n",
        "\n",
        "print(f'Dimensiones del dataset de training: {train.shape}')\n",
        "print(f'Dimensiones del dataset de test: {test.shape}')\n",
        "\n",
        "# guardamos los datos en difirentes archivos\n",
        "train.to_csv('./airbnb-listings-extract_train.csv', sep=';', decimal='.', index=False)\n",
        "test.to_csv('./airbnb-listings-extract_test.csv', sep=';', decimal='.', index=False)\n",
        "\n",
        "\n",
        "# cargamos los ficheros\n",
        "airbnb_data_train = pandas.read_csv(\"./airbnb-listings-extract_train.csv\",sep=';', decimal='.')\n",
        "airbnb_data_test = pandas.read_csv(\"./airbnb-listings-extract_test.csv\",sep=';', decimal='.')"
      ],
      "metadata": {
        "colab": {
          "base_uri": "https://localhost:8080/"
        },
        "id": "bqBGinyIjoZy",
        "outputId": "57741108-8afe-48f7-9b1d-dfa2831f7d3a"
      },
      "execution_count": 53,
      "outputs": [
        {
          "output_type": "stream",
          "name": "stdout",
          "text": [
            "Dimensiones del dataset de training: (2503, 14)\n",
            "Dimensiones del dataset de test: (626, 14)\n"
          ]
        }
      ]
    },
    {
      "cell_type": "markdown",
      "source": [
        "## Imputamos los datos\n"
      ],
      "metadata": {
        "id": "s6eSiMh6bRCR"
      }
    },
    {
      "cell_type": "code",
      "source": [
        "\n",
        "# las caracteristicas con valores nulos son bathrooms, bedrooms, beds. Los imputamos\n",
        "print(f\"Los valores nulos de bathrooms son {airbnb_data_train['bathrooms'].isnull().sum()}\")\n",
        "print(f\"Los valores nulos de beds son {airbnb_data_train['beds'].isnull().sum()}\")\n",
        "print(f\"Los valores nulos de bedrooms son {airbnb_data_train['bedrooms'].isnull().sum()}\")\n",
        "print(f\"Los valores nulos de bathrooms_text son {airbnb_data_train['bathrooms_text'].isnull().sum()}\")\n",
        "\n",
        "# observamos que tanto bathrooms como bedrooms todos sus valores son nulos, en este caso lo eliminamos\n",
        "airbnb_data_train = airbnb_data_train.drop(['bathrooms', 'bedrooms'], axis=1)\n",
        "\n",
        "# al no tener dato de bathrooms observamos en los datos que existe otra columna que se llama bathrooms_text sin valores nulos y contiene con texto de los bathrooms.\n",
        "# tienen muchas categorias asique en vez de codificarlo, obtamos por eliminar el texto quedandonos solo con el numero y convertirlo en float\n",
        "airbnb_data_train['bathrooms_text'] = airbnb_data_train['bathrooms_text'].str.extract(r'(\\d+(\\.\\d+)?)')[0].astype(float)\n",
        "\n",
        "# imputamos los valores nulos\n",
        "airbnb_data_train['beds'] = airbnb_data_train['beds'].fillna(airbnb_data_train['beds'].mean())\n",
        "\n",
        "airbnb_data_train['bathrooms_text'] = airbnb_data_train['bathrooms_text'].fillna(airbnb_data_train['bathrooms_text'].mean())\n",
        "\n",
        "\n"
      ],
      "metadata": {
        "colab": {
          "base_uri": "https://localhost:8080/"
        },
        "id": "H_ku2tWGa1z8",
        "outputId": "e55fbd88-a692-46df-f2d5-076c2810e645"
      },
      "execution_count": 8,
      "outputs": [
        {
          "output_type": "stream",
          "name": "stdout",
          "text": [
            "Los valores nulos de bathrooms son 2503\n",
            "Los valores nulos de beds son 37\n",
            "Los valores nulos de bedrooms son 2503\n",
            "Los valores nulos de bathrooms_text son 0\n"
          ]
        }
      ]
    },
    {
      "cell_type": "markdown",
      "source": [
        "## Codificamos las variables categoricas"
      ],
      "metadata": {
        "id": "Ucu14GshdDRS"
      }
    },
    {
      "cell_type": "code",
      "source": [
        "# primero empezamos con la caracteristica neighbourhood_cleansed, vamos a realizar un target enconding porque puede ser que aparezcan bastantes nuevas\n",
        "\n",
        "airbnb_data_train['neighbourhood_cleansed_encoded'] = airbnb_data_train['neighbourhood_cleansed'].map(\n",
        "    airbnb_data_train.groupby('neighbourhood_cleansed')['price'].mean()\n",
        ")\n",
        "\n",
        "airbnb_data_train['property_type_encoded'] = airbnb_data_train['property_type'].map(\n",
        "    airbnb_data_train.groupby('property_type')['price'].mean()\n",
        ")\n",
        "\n",
        "airbnb_data_train['room_type_encoded'] = airbnb_data_train['room_type'].map(\n",
        "    airbnb_data_train.groupby('room_type')['price'].mean()\n",
        ")\n",
        "\n",
        "airbnb_data_train = airbnb_data_train.drop(['neighbourhood_cleansed', 'property_type', 'room_type',\"number_of_reviews\"], axis=1)"
      ],
      "metadata": {
        "id": "uJ-zRTxVdC-p"
      },
      "execution_count": 9,
      "outputs": []
    },
    {
      "cell_type": "code",
      "source": [
        "airbnb_data_train.describe()"
      ],
      "metadata": {
        "colab": {
          "base_uri": "https://localhost:8080/",
          "height": 300
        },
        "id": "FtGjr4O25SYY",
        "outputId": "1ff37b9e-0c43-4871-87ff-b57657f3fc08"
      },
      "execution_count": 10,
      "outputs": [
        {
          "output_type": "execute_result",
          "data": {
            "text/plain": [
              "       accommodates         beds  minimum_nights  maximum_nights     latitude  \\\n",
              "count   2503.000000  2503.000000     2503.000000     2503.000000  2503.000000   \n",
              "mean       3.235318     1.881590       27.063524      513.108270    42.335487   \n",
              "std        2.357904     1.567993       35.406754      408.864097     0.027902   \n",
              "min        1.000000     1.000000        1.000000        1.000000    42.235300   \n",
              "25%        2.000000     1.000000        1.000000      180.000000    42.317805   \n",
              "50%        2.000000     1.000000       28.000000      365.000000    42.342910   \n",
              "75%        4.000000     2.000000       29.000000     1125.000000    42.354705   \n",
              "max       16.000000    22.000000      400.000000     1125.000000    42.391317   \n",
              "\n",
              "         longitude  bathrooms_text         price  \\\n",
              "count  2503.000000     2503.000000   2503.000000   \n",
              "mean    -71.082803        1.242709    186.433879   \n",
              "std       0.032716        0.623066    349.431855   \n",
              "min     -71.173442        0.000000     20.000000   \n",
              "25%     -71.099490        1.000000     75.000000   \n",
              "50%     -71.076070        1.000000    120.000000   \n",
              "75%     -71.061610        1.500000    200.000000   \n",
              "max     -70.996000        6.000000  10000.000000   \n",
              "\n",
              "       neighbourhood_cleansed_encoded  property_type_encoded  \\\n",
              "count                     2503.000000            2503.000000   \n",
              "mean                       186.433879             186.433879   \n",
              "std                         55.111546             114.794339   \n",
              "min                        112.000000              20.000000   \n",
              "25%                        136.983607              95.863636   \n",
              "50%                        183.594595             187.762603   \n",
              "75%                        220.836066             187.762603   \n",
              "max                        349.500000             676.434783   \n",
              "\n",
              "       room_type_encoded  \n",
              "count        2503.000000  \n",
              "mean          186.433879  \n",
              "std            60.337988  \n",
              "min            66.300000  \n",
              "25%           122.118701  \n",
              "50%           218.110759  \n",
              "75%           218.110759  \n",
              "max           615.700000  "
            ],
            "text/html": [
              "\n",
              "  <div id=\"df-236fe06b-b6e5-4f25-8c3a-a9bb4c52349c\" class=\"colab-df-container\">\n",
              "    <div>\n",
              "<style scoped>\n",
              "    .dataframe tbody tr th:only-of-type {\n",
              "        vertical-align: middle;\n",
              "    }\n",
              "\n",
              "    .dataframe tbody tr th {\n",
              "        vertical-align: top;\n",
              "    }\n",
              "\n",
              "    .dataframe thead th {\n",
              "        text-align: right;\n",
              "    }\n",
              "</style>\n",
              "<table border=\"1\" class=\"dataframe\">\n",
              "  <thead>\n",
              "    <tr style=\"text-align: right;\">\n",
              "      <th></th>\n",
              "      <th>accommodates</th>\n",
              "      <th>beds</th>\n",
              "      <th>minimum_nights</th>\n",
              "      <th>maximum_nights</th>\n",
              "      <th>latitude</th>\n",
              "      <th>longitude</th>\n",
              "      <th>bathrooms_text</th>\n",
              "      <th>price</th>\n",
              "      <th>neighbourhood_cleansed_encoded</th>\n",
              "      <th>property_type_encoded</th>\n",
              "      <th>room_type_encoded</th>\n",
              "    </tr>\n",
              "  </thead>\n",
              "  <tbody>\n",
              "    <tr>\n",
              "      <th>count</th>\n",
              "      <td>2503.000000</td>\n",
              "      <td>2503.000000</td>\n",
              "      <td>2503.000000</td>\n",
              "      <td>2503.000000</td>\n",
              "      <td>2503.000000</td>\n",
              "      <td>2503.000000</td>\n",
              "      <td>2503.000000</td>\n",
              "      <td>2503.000000</td>\n",
              "      <td>2503.000000</td>\n",
              "      <td>2503.000000</td>\n",
              "      <td>2503.000000</td>\n",
              "    </tr>\n",
              "    <tr>\n",
              "      <th>mean</th>\n",
              "      <td>3.235318</td>\n",
              "      <td>1.881590</td>\n",
              "      <td>27.063524</td>\n",
              "      <td>513.108270</td>\n",
              "      <td>42.335487</td>\n",
              "      <td>-71.082803</td>\n",
              "      <td>1.242709</td>\n",
              "      <td>186.433879</td>\n",
              "      <td>186.433879</td>\n",
              "      <td>186.433879</td>\n",
              "      <td>186.433879</td>\n",
              "    </tr>\n",
              "    <tr>\n",
              "      <th>std</th>\n",
              "      <td>2.357904</td>\n",
              "      <td>1.567993</td>\n",
              "      <td>35.406754</td>\n",
              "      <td>408.864097</td>\n",
              "      <td>0.027902</td>\n",
              "      <td>0.032716</td>\n",
              "      <td>0.623066</td>\n",
              "      <td>349.431855</td>\n",
              "      <td>55.111546</td>\n",
              "      <td>114.794339</td>\n",
              "      <td>60.337988</td>\n",
              "    </tr>\n",
              "    <tr>\n",
              "      <th>min</th>\n",
              "      <td>1.000000</td>\n",
              "      <td>1.000000</td>\n",
              "      <td>1.000000</td>\n",
              "      <td>1.000000</td>\n",
              "      <td>42.235300</td>\n",
              "      <td>-71.173442</td>\n",
              "      <td>0.000000</td>\n",
              "      <td>20.000000</td>\n",
              "      <td>112.000000</td>\n",
              "      <td>20.000000</td>\n",
              "      <td>66.300000</td>\n",
              "    </tr>\n",
              "    <tr>\n",
              "      <th>25%</th>\n",
              "      <td>2.000000</td>\n",
              "      <td>1.000000</td>\n",
              "      <td>1.000000</td>\n",
              "      <td>180.000000</td>\n",
              "      <td>42.317805</td>\n",
              "      <td>-71.099490</td>\n",
              "      <td>1.000000</td>\n",
              "      <td>75.000000</td>\n",
              "      <td>136.983607</td>\n",
              "      <td>95.863636</td>\n",
              "      <td>122.118701</td>\n",
              "    </tr>\n",
              "    <tr>\n",
              "      <th>50%</th>\n",
              "      <td>2.000000</td>\n",
              "      <td>1.000000</td>\n",
              "      <td>28.000000</td>\n",
              "      <td>365.000000</td>\n",
              "      <td>42.342910</td>\n",
              "      <td>-71.076070</td>\n",
              "      <td>1.000000</td>\n",
              "      <td>120.000000</td>\n",
              "      <td>183.594595</td>\n",
              "      <td>187.762603</td>\n",
              "      <td>218.110759</td>\n",
              "    </tr>\n",
              "    <tr>\n",
              "      <th>75%</th>\n",
              "      <td>4.000000</td>\n",
              "      <td>2.000000</td>\n",
              "      <td>29.000000</td>\n",
              "      <td>1125.000000</td>\n",
              "      <td>42.354705</td>\n",
              "      <td>-71.061610</td>\n",
              "      <td>1.500000</td>\n",
              "      <td>200.000000</td>\n",
              "      <td>220.836066</td>\n",
              "      <td>187.762603</td>\n",
              "      <td>218.110759</td>\n",
              "    </tr>\n",
              "    <tr>\n",
              "      <th>max</th>\n",
              "      <td>16.000000</td>\n",
              "      <td>22.000000</td>\n",
              "      <td>400.000000</td>\n",
              "      <td>1125.000000</td>\n",
              "      <td>42.391317</td>\n",
              "      <td>-70.996000</td>\n",
              "      <td>6.000000</td>\n",
              "      <td>10000.000000</td>\n",
              "      <td>349.500000</td>\n",
              "      <td>676.434783</td>\n",
              "      <td>615.700000</td>\n",
              "    </tr>\n",
              "  </tbody>\n",
              "</table>\n",
              "</div>\n",
              "    <div class=\"colab-df-buttons\">\n",
              "\n",
              "  <div class=\"colab-df-container\">\n",
              "    <button class=\"colab-df-convert\" onclick=\"convertToInteractive('df-236fe06b-b6e5-4f25-8c3a-a9bb4c52349c')\"\n",
              "            title=\"Convert this dataframe to an interactive table.\"\n",
              "            style=\"display:none;\">\n",
              "\n",
              "  <svg xmlns=\"http://www.w3.org/2000/svg\" height=\"24px\" viewBox=\"0 -960 960 960\">\n",
              "    <path d=\"M120-120v-720h720v720H120Zm60-500h600v-160H180v160Zm220 220h160v-160H400v160Zm0 220h160v-160H400v160ZM180-400h160v-160H180v160Zm440 0h160v-160H620v160ZM180-180h160v-160H180v160Zm440 0h160v-160H620v160Z\"/>\n",
              "  </svg>\n",
              "    </button>\n",
              "\n",
              "  <style>\n",
              "    .colab-df-container {\n",
              "      display:flex;\n",
              "      gap: 12px;\n",
              "    }\n",
              "\n",
              "    .colab-df-convert {\n",
              "      background-color: #E8F0FE;\n",
              "      border: none;\n",
              "      border-radius: 50%;\n",
              "      cursor: pointer;\n",
              "      display: none;\n",
              "      fill: #1967D2;\n",
              "      height: 32px;\n",
              "      padding: 0 0 0 0;\n",
              "      width: 32px;\n",
              "    }\n",
              "\n",
              "    .colab-df-convert:hover {\n",
              "      background-color: #E2EBFA;\n",
              "      box-shadow: 0px 1px 2px rgba(60, 64, 67, 0.3), 0px 1px 3px 1px rgba(60, 64, 67, 0.15);\n",
              "      fill: #174EA6;\n",
              "    }\n",
              "\n",
              "    .colab-df-buttons div {\n",
              "      margin-bottom: 4px;\n",
              "    }\n",
              "\n",
              "    [theme=dark] .colab-df-convert {\n",
              "      background-color: #3B4455;\n",
              "      fill: #D2E3FC;\n",
              "    }\n",
              "\n",
              "    [theme=dark] .colab-df-convert:hover {\n",
              "      background-color: #434B5C;\n",
              "      box-shadow: 0px 1px 3px 1px rgba(0, 0, 0, 0.15);\n",
              "      filter: drop-shadow(0px 1px 2px rgba(0, 0, 0, 0.3));\n",
              "      fill: #FFFFFF;\n",
              "    }\n",
              "  </style>\n",
              "\n",
              "    <script>\n",
              "      const buttonEl =\n",
              "        document.querySelector('#df-236fe06b-b6e5-4f25-8c3a-a9bb4c52349c button.colab-df-convert');\n",
              "      buttonEl.style.display =\n",
              "        google.colab.kernel.accessAllowed ? 'block' : 'none';\n",
              "\n",
              "      async function convertToInteractive(key) {\n",
              "        const element = document.querySelector('#df-236fe06b-b6e5-4f25-8c3a-a9bb4c52349c');\n",
              "        const dataTable =\n",
              "          await google.colab.kernel.invokeFunction('convertToInteractive',\n",
              "                                                    [key], {});\n",
              "        if (!dataTable) return;\n",
              "\n",
              "        const docLinkHtml = 'Like what you see? Visit the ' +\n",
              "          '<a target=\"_blank\" href=https://colab.research.google.com/notebooks/data_table.ipynb>data table notebook</a>'\n",
              "          + ' to learn more about interactive tables.';\n",
              "        element.innerHTML = '';\n",
              "        dataTable['output_type'] = 'display_data';\n",
              "        await google.colab.output.renderOutput(dataTable, element);\n",
              "        const docLink = document.createElement('div');\n",
              "        docLink.innerHTML = docLinkHtml;\n",
              "        element.appendChild(docLink);\n",
              "      }\n",
              "    </script>\n",
              "  </div>\n",
              "\n",
              "\n",
              "<div id=\"df-79bd1256-4cc2-4aaf-8acb-257f4eaf5392\">\n",
              "  <button class=\"colab-df-quickchart\" onclick=\"quickchart('df-79bd1256-4cc2-4aaf-8acb-257f4eaf5392')\"\n",
              "            title=\"Suggest charts\"\n",
              "            style=\"display:none;\">\n",
              "\n",
              "<svg xmlns=\"http://www.w3.org/2000/svg\" height=\"24px\"viewBox=\"0 0 24 24\"\n",
              "     width=\"24px\">\n",
              "    <g>\n",
              "        <path d=\"M19 3H5c-1.1 0-2 .9-2 2v14c0 1.1.9 2 2 2h14c1.1 0 2-.9 2-2V5c0-1.1-.9-2-2-2zM9 17H7v-7h2v7zm4 0h-2V7h2v10zm4 0h-2v-4h2v4z\"/>\n",
              "    </g>\n",
              "</svg>\n",
              "  </button>\n",
              "\n",
              "<style>\n",
              "  .colab-df-quickchart {\n",
              "      --bg-color: #E8F0FE;\n",
              "      --fill-color: #1967D2;\n",
              "      --hover-bg-color: #E2EBFA;\n",
              "      --hover-fill-color: #174EA6;\n",
              "      --disabled-fill-color: #AAA;\n",
              "      --disabled-bg-color: #DDD;\n",
              "  }\n",
              "\n",
              "  [theme=dark] .colab-df-quickchart {\n",
              "      --bg-color: #3B4455;\n",
              "      --fill-color: #D2E3FC;\n",
              "      --hover-bg-color: #434B5C;\n",
              "      --hover-fill-color: #FFFFFF;\n",
              "      --disabled-bg-color: #3B4455;\n",
              "      --disabled-fill-color: #666;\n",
              "  }\n",
              "\n",
              "  .colab-df-quickchart {\n",
              "    background-color: var(--bg-color);\n",
              "    border: none;\n",
              "    border-radius: 50%;\n",
              "    cursor: pointer;\n",
              "    display: none;\n",
              "    fill: var(--fill-color);\n",
              "    height: 32px;\n",
              "    padding: 0;\n",
              "    width: 32px;\n",
              "  }\n",
              "\n",
              "  .colab-df-quickchart:hover {\n",
              "    background-color: var(--hover-bg-color);\n",
              "    box-shadow: 0 1px 2px rgba(60, 64, 67, 0.3), 0 1px 3px 1px rgba(60, 64, 67, 0.15);\n",
              "    fill: var(--button-hover-fill-color);\n",
              "  }\n",
              "\n",
              "  .colab-df-quickchart-complete:disabled,\n",
              "  .colab-df-quickchart-complete:disabled:hover {\n",
              "    background-color: var(--disabled-bg-color);\n",
              "    fill: var(--disabled-fill-color);\n",
              "    box-shadow: none;\n",
              "  }\n",
              "\n",
              "  .colab-df-spinner {\n",
              "    border: 2px solid var(--fill-color);\n",
              "    border-color: transparent;\n",
              "    border-bottom-color: var(--fill-color);\n",
              "    animation:\n",
              "      spin 1s steps(1) infinite;\n",
              "  }\n",
              "\n",
              "  @keyframes spin {\n",
              "    0% {\n",
              "      border-color: transparent;\n",
              "      border-bottom-color: var(--fill-color);\n",
              "      border-left-color: var(--fill-color);\n",
              "    }\n",
              "    20% {\n",
              "      border-color: transparent;\n",
              "      border-left-color: var(--fill-color);\n",
              "      border-top-color: var(--fill-color);\n",
              "    }\n",
              "    30% {\n",
              "      border-color: transparent;\n",
              "      border-left-color: var(--fill-color);\n",
              "      border-top-color: var(--fill-color);\n",
              "      border-right-color: var(--fill-color);\n",
              "    }\n",
              "    40% {\n",
              "      border-color: transparent;\n",
              "      border-right-color: var(--fill-color);\n",
              "      border-top-color: var(--fill-color);\n",
              "    }\n",
              "    60% {\n",
              "      border-color: transparent;\n",
              "      border-right-color: var(--fill-color);\n",
              "    }\n",
              "    80% {\n",
              "      border-color: transparent;\n",
              "      border-right-color: var(--fill-color);\n",
              "      border-bottom-color: var(--fill-color);\n",
              "    }\n",
              "    90% {\n",
              "      border-color: transparent;\n",
              "      border-bottom-color: var(--fill-color);\n",
              "    }\n",
              "  }\n",
              "</style>\n",
              "\n",
              "  <script>\n",
              "    async function quickchart(key) {\n",
              "      const quickchartButtonEl =\n",
              "        document.querySelector('#' + key + ' button');\n",
              "      quickchartButtonEl.disabled = true;  // To prevent multiple clicks.\n",
              "      quickchartButtonEl.classList.add('colab-df-spinner');\n",
              "      try {\n",
              "        const charts = await google.colab.kernel.invokeFunction(\n",
              "            'suggestCharts', [key], {});\n",
              "      } catch (error) {\n",
              "        console.error('Error during call to suggestCharts:', error);\n",
              "      }\n",
              "      quickchartButtonEl.classList.remove('colab-df-spinner');\n",
              "      quickchartButtonEl.classList.add('colab-df-quickchart-complete');\n",
              "    }\n",
              "    (() => {\n",
              "      let quickchartButtonEl =\n",
              "        document.querySelector('#df-79bd1256-4cc2-4aaf-8acb-257f4eaf5392 button');\n",
              "      quickchartButtonEl.style.display =\n",
              "        google.colab.kernel.accessAllowed ? 'block' : 'none';\n",
              "    })();\n",
              "  </script>\n",
              "</div>\n",
              "\n",
              "    </div>\n",
              "  </div>\n"
            ],
            "application/vnd.google.colaboratory.intrinsic+json": {
              "type": "dataframe",
              "summary": "{\n  \"name\": \"airbnb_data_train\",\n  \"rows\": 8,\n  \"fields\": [\n    {\n      \"column\": \"accommodates\",\n      \"properties\": {\n        \"dtype\": \"number\",\n        \"std\": 883.4121510528978,\n        \"min\": 1.0,\n        \"max\": 2503.0,\n        \"num_unique_values\": 7,\n        \"samples\": [\n          2503.0,\n          3.2353176188573713,\n          4.0\n        ],\n        \"semantic_type\": \"\",\n        \"description\": \"\"\n      }\n    },\n    {\n      \"column\": \"beds\",\n      \"properties\": {\n        \"dtype\": \"number\",\n        \"std\": 883.4356755931,\n        \"min\": 1.0,\n        \"max\": 2503.0,\n        \"num_unique_values\": 6,\n        \"samples\": [\n          2503.0,\n          1.881589618815896,\n          22.0\n        ],\n        \"semantic_type\": \"\",\n        \"description\": \"\"\n      }\n    },\n    {\n      \"column\": \"minimum_nights\",\n      \"properties\": {\n        \"dtype\": \"number\",\n        \"std\": 868.9233497930678,\n        \"min\": 1.0,\n        \"max\": 2503.0,\n        \"num_unique_values\": 7,\n        \"samples\": [\n          2503.0,\n          27.06352377147423,\n          29.0\n        ],\n        \"semantic_type\": \"\",\n        \"description\": \"\"\n      }\n    },\n    {\n      \"column\": \"maximum_nights\",\n      \"properties\": {\n        \"dtype\": \"number\",\n        \"std\": 806.6485159379863,\n        \"min\": 1.0,\n        \"max\": 2503.0,\n        \"num_unique_values\": 7,\n        \"samples\": [\n          2503.0,\n          513.1082700759089,\n          365.0\n        ],\n        \"semantic_type\": \"\",\n        \"description\": \"\"\n      }\n    },\n    {\n      \"column\": \"latitude\",\n      \"properties\": {\n        \"dtype\": \"number\",\n        \"std\": 872.2405396854687,\n        \"min\": 0.02790150708784601,\n        \"max\": 2503.0,\n        \"num_unique_values\": 8,\n        \"samples\": [\n          42.33548735397391,\n          42.34291,\n          2503.0\n        ],\n        \"semantic_type\": \"\",\n        \"description\": \"\"\n      }\n    },\n    {\n      \"column\": \"longitude\",\n      \"properties\": {\n        \"dtype\": \"number\",\n        \"std\": 906.8249590142453,\n        \"min\": -71.1734416699743,\n        \"max\": 2503.0,\n        \"num_unique_values\": 8,\n        \"samples\": [\n          -71.08280296378672,\n          -71.07607,\n          2503.0\n        ],\n        \"semantic_type\": \"\",\n        \"description\": \"\"\n      }\n    },\n    {\n      \"column\": \"bathrooms_text\",\n      \"properties\": {\n        \"dtype\": \"number\",\n        \"std\": 884.3719948076281,\n        \"min\": 0.0,\n        \"max\": 2503.0,\n        \"num_unique_values\": 7,\n        \"samples\": [\n          2503.0,\n          1.2427087495005993,\n          1.5\n        ],\n        \"semantic_type\": \"\",\n        \"description\": \"\"\n      }\n    },\n    {\n      \"column\": \"price\",\n      \"properties\": {\n        \"dtype\": \"number\",\n        \"std\": 3461.141044560967,\n        \"min\": 20.0,\n        \"max\": 10000.0,\n        \"num_unique_values\": 8,\n        \"samples\": [\n          186.43387934478625,\n          120.0,\n          2503.0\n        ],\n        \"semantic_type\": \"\",\n        \"description\": \"\"\n      }\n    },\n    {\n      \"column\": \"neighbourhood_cleansed_encoded\",\n      \"properties\": {\n        \"dtype\": \"number\",\n        \"std\": 826.637457915176,\n        \"min\": 55.11154551255864,\n        \"max\": 2503.0,\n        \"num_unique_values\": 8,\n        \"samples\": [\n          186.43387934478625,\n          183.59459459459458,\n          2503.0\n        ],\n        \"semantic_type\": \"\",\n        \"description\": \"\"\n      }\n    },\n    {\n      \"column\": \"property_type_encoded\",\n      \"properties\": {\n        \"dtype\": \"number\",\n        \"std\": 834.8189104743379,\n        \"min\": 20.0,\n        \"max\": 2503.0,\n        \"num_unique_values\": 7,\n        \"samples\": [\n          2503.0,\n          186.43387934478625,\n          187.76260311640698\n        ],\n        \"semantic_type\": \"\",\n        \"description\": \"\"\n      }\n    },\n    {\n      \"column\": \"room_type_encoded\",\n      \"properties\": {\n        \"dtype\": \"number\",\n        \"std\": 828.6669776577784,\n        \"min\": 60.337988453539744,\n        \"max\": 2503.0,\n        \"num_unique_values\": 7,\n        \"samples\": [\n          2503.0,\n          186.43387934478625,\n          218.11075949367088\n        ],\n        \"semantic_type\": \"\",\n        \"description\": \"\"\n      }\n    }\n  ]\n}"
            }
          },
          "metadata": {},
          "execution_count": 10
        }
      ]
    },
    {
      "cell_type": "markdown",
      "source": [
        "## Dividimos los datos y escalamos"
      ],
      "metadata": {
        "id": "D2ZxEXTVqD-5"
      }
    },
    {
      "cell_type": "code",
      "source": [
        "from sklearn.preprocessing import MinMaxScaler\n",
        "\n",
        "\n",
        "# dividimos entra caracteristicas y etiquetas\n",
        "X = airbnb_data_train.drop('price', axis=1)\n",
        "y = airbnb_data_train['price']\n",
        "\n",
        "# dividimos entre train,val,test\n",
        "X_train, X_val, y_train, y_val = train_test_split(X, y, test_size=0.15,shuffle=True, random_state=1)\n",
        "\n",
        "# escalamos las características\n",
        "scaler = MinMaxScaler()\n",
        "scaler.fit(X_train)\n",
        "\n",
        "X_train_scaled = scaler.transform(X_train)\n",
        "X_val_scaled = scaler.transform(X_val)\n",
        "\n",
        "# Obtener el valor mínimo y máximo\n",
        "precio_min = np.min(y_train)\n",
        "precio_max = np.max(y_train)\n",
        "precio_min_val = np.min(y_val)\n",
        "precio_max_val = np.max(y_val)\n",
        "\n",
        "# Normalizar los precios\n",
        "precios_normalizados = (y_train - precio_min) / (precio_max - precio_min)\n",
        "precios_normalizados_val = (y_val - precio_min_val) / (precio_max_val - precio_min_val)\n",
        "\n"
      ],
      "metadata": {
        "id": "_E3s2bxam4e0"
      },
      "execution_count": 11,
      "outputs": []
    },
    {
      "cell_type": "code",
      "source": [
        "print(\"Valores nulos en X_train:\", np.isnan(X_train_scaled).sum())\n",
        "print(\"Valores nulos en y_train:\", np.isnan(y_train).sum())\n",
        "\n",
        "# Verificar las dimensiones\n",
        "print(\"Dimensiones de X_train_scaled:\", X_train_scaled.shape)\n",
        "print(\"Dimensiones de X_val_scaled:\", X_val_scaled.shape)\n",
        "\n",
        "print(\"Rango X_train_scaled:\", X_train_scaled.min(), X_train_scaled.max())\n",
        "print(\"Rango X_val_scaled:\", X_val_scaled.min(), X_val_scaled.max())"
      ],
      "metadata": {
        "colab": {
          "base_uri": "https://localhost:8080/"
        },
        "id": "sGl2KyTA5aOI",
        "outputId": "4fa93840-6e2c-4a8d-ce9a-6a41950a8363"
      },
      "execution_count": 12,
      "outputs": [
        {
          "output_type": "stream",
          "name": "stdout",
          "text": [
            "Valores nulos en X_train: 0\n",
            "Valores nulos en y_train: 0\n",
            "Dimensiones de X_train_scaled: (2127, 10)\n",
            "Dimensiones de X_val_scaled: (376, 10)\n",
            "Rango X_train_scaled: 0.0 1.0\n",
            "Rango X_val_scaled: -0.005148624746993846 1.0\n"
          ]
        }
      ]
    },
    {
      "cell_type": "markdown",
      "source": [
        "## Creamos el modelo secuencial"
      ],
      "metadata": {
        "id": "mQujXsv4sqz0"
      }
    },
    {
      "cell_type": "code",
      "source": [
        "from hyperopt import fmin, tpe, hp, Trials, STATUS_OK\n",
        "from tensorflow.keras.models import Sequential\n",
        "from tensorflow.keras.layers import Dense\n",
        "from tensorflow.keras.optimizers import Adam\n",
        "from tensorflow.keras.layers import Dropout\n",
        "from tensorflow.keras.callbacks import EarlyStopping\n",
        "import matplotlib.pyplot as plt\n",
        "import numpy as np\n",
        "\n",
        "# vamos a hacer una busqueda de hiperparametros\n",
        "\n",
        "# creamos el espacio\n",
        "space = {\n",
        "    'batch_size': hp.choice('batch_size', [64, 128, 256]),\n",
        "      \"dropout\": hp.uniform(\"dropout\", 0.0, 0.5),\n",
        "    'epochs': hp.choice('epochs', [10, 20, 30])\n",
        "}\n",
        "\n",
        "# nos definimos unos callbacks para que la red pare cuando no vea mejora\n",
        "def\tget_callbacks(pars):\n",
        "  callbacks\t= [EarlyStopping(monitor=\"val_loss\", min_delta=0.0001, patience=2, verbose=0, mode=\"auto\")]\n",
        "  return callbacks\n",
        "\n",
        "# definimos la funcion objetivo\n",
        "def model_objective(pars):\n",
        "  print ('Parametros: ', pars)\n",
        "  # creamos la red y le vamos añadiendo las capas\n",
        "  model = Sequential()\n",
        "  model.add(Dense(64,activation='relu', input_shape=(X_train_scaled.shape[1],)))\n",
        "  model.add(Dropout(pars[\"dropout\"]))\n",
        "  model.add(Dense(32,activation='relu'))\n",
        "  model.add(Dropout(pars[\"dropout\"]))\n",
        "  model.add(Dense(16,activation='relu'))\n",
        "  model.add(Dropout(pars[\"dropout\"]))\n",
        "  model.add(Dense(1))\n",
        "\n",
        "  # creamos el optimizador\n",
        "  optimizer = Adam(learning_rate=0.1)\n",
        "\n",
        "  # compilamos el modelo utilizando el optimizador ADAM y funcion de perdida mse\n",
        "  model.compile(optimizer=optimizer, loss='mse')\n",
        "\n",
        "  # entrenamos el modelo y guardamos el historial\n",
        "  historico = model.fit(X_train_scaled, precios_normalizados, epochs=pars['epochs'], batch_size=pars['batch_size'],validation_data=(X_val_scaled, precios_normalizados_val),verbose=0,callbacks=get_callbacks(pars))\n",
        "\n",
        "  # extraer la pérdida minima entre todas las epocas\n",
        "  val_loss = min(historico.history['val_loss'])\n",
        "  return {'loss': val_loss, 'status': STATUS_OK}"
      ],
      "metadata": {
        "id": "j4xrRwCHgiXq"
      },
      "execution_count": 29,
      "outputs": []
    },
    {
      "cell_type": "code",
      "source": [
        "# buscamos\n",
        "trials = Trials()\n",
        "best = fmin(fn=model_objective,\n",
        "            space=space,\n",
        "            algo=tpe.suggest,\n",
        "            max_evals=3,\n",
        "            trials=trials)\n",
        "print(best)"
      ],
      "metadata": {
        "colab": {
          "base_uri": "https://localhost:8080/"
        },
        "id": "LWbGvctH7_8H",
        "outputId": "49d69352-9070-4d1d-fd73-9522c96f2761"
      },
      "execution_count": 30,
      "outputs": [
        {
          "output_type": "stream",
          "name": "stdout",
          "text": [
            "Parametros: \n",
            "{'batch_size': 256, 'dropout': 0.10016355152499617, 'epochs': 20}\n",
            "  0%|          | 0/3 [00:00<?, ?trial/s, best loss=?]"
          ]
        },
        {
          "output_type": "stream",
          "name": "stderr",
          "text": [
            "/usr/local/lib/python3.10/dist-packages/keras/src/layers/core/dense.py:87: UserWarning: Do not pass an `input_shape`/`input_dim` argument to a layer. When using Sequential models, prefer using an `Input(shape)` object as the first layer in the model instead.\n",
            "  super().__init__(activity_regularizer=activity_regularizer, **kwargs)\n",
            "\n"
          ]
        },
        {
          "output_type": "stream",
          "name": "stdout",
          "text": [
            "Parametros: \n",
            "{'batch_size': 256, 'dropout': 0.19875024985995604, 'epochs': 10}\n",
            " 33%|███▎      | 1/3 [00:01<00:03,  1.87s/trial, best loss: 0.003926925361156464]"
          ]
        },
        {
          "output_type": "stream",
          "name": "stderr",
          "text": [
            "/usr/local/lib/python3.10/dist-packages/keras/src/layers/core/dense.py:87: UserWarning: Do not pass an `input_shape`/`input_dim` argument to a layer. When using Sequential models, prefer using an `Input(shape)` object as the first layer in the model instead.\n",
            "  super().__init__(activity_regularizer=activity_regularizer, **kwargs)\n",
            "\n"
          ]
        },
        {
          "output_type": "stream",
          "name": "stdout",
          "text": [
            "Parametros: \n",
            "{'batch_size': 256, 'dropout': 0.44538050557630277, 'epochs': 20}\n",
            " 67%|██████▋   | 2/3 [00:03<00:01,  1.88s/trial, best loss: 0.003926925361156464]"
          ]
        },
        {
          "output_type": "stream",
          "name": "stderr",
          "text": [
            "/usr/local/lib/python3.10/dist-packages/keras/src/layers/core/dense.py:87: UserWarning: Do not pass an `input_shape`/`input_dim` argument to a layer. When using Sequential models, prefer using an `Input(shape)` object as the first layer in the model instead.\n",
            "  super().__init__(activity_regularizer=activity_regularizer, **kwargs)\n",
            "\n"
          ]
        },
        {
          "output_type": "stream",
          "name": "stdout",
          "text": [
            "100%|██████████| 3/3 [00:05<00:00,  1.80s/trial, best loss: 0.003926925361156464]\n",
            "{'batch_size': 2, 'dropout': 0.10016355152499617, 'epochs': 1}\n"
          ]
        }
      ]
    },
    {
      "cell_type": "code",
      "source": [
        "best_mapped = {\n",
        "    'batch_size': [64, 128, 256][best['batch_size']],  # Convertir índice en valor\n",
        "    'dropout': best['dropout'],  # Este es continuo, no necesita mapeo\n",
        "    'epochs': [10, 20, 30][best['epochs']]  # Convertir índice en valor\n",
        "}"
      ],
      "metadata": {
        "id": "DwaOWqHjsQOV"
      },
      "execution_count": 38,
      "outputs": []
    },
    {
      "cell_type": "code",
      "source": [
        "# evaluamos el modelo con los mejores parametros\n",
        "\n",
        "model = Sequential()\n",
        "model.add(Dense(64,activation='relu', input_shape=(X_train_scaled.shape[1],)))\n",
        "model.add(Dropout(best_mapped[\"dropout\"]))\n",
        "model.add(Dense(32,activation='relu'))\n",
        "model.add(Dropout(best_mapped[\"dropout\"]))\n",
        "model.add(Dense(16,activation='relu'))\n",
        "model.add(Dropout(best_mapped[\"dropout\"]))\n",
        "model.add(Dense(1))\n",
        "\n",
        "# creamos el optimizador\n",
        "optimizer = Adam(learning_rate=0.1)\n",
        "\n",
        "# compilamos el modelo utilizando el optimizador ADAM y funcion de perdida mse\n",
        "model.compile(optimizer=optimizer, loss='mse')\n",
        "\n",
        "# entrenamos el modelo y guardamos el historial\n",
        "historico = model.fit(X_train_scaled, precios_normalizados, epochs=best_mapped['epochs'], batch_size=best_mapped['batch_size'],validation_data=(X_val_scaled, precios_normalizados_val),verbose=0)\n",
        "\n",
        "val_loss = min(historico.history['val_loss'])\n",
        "\n",
        "print(val_loss)"
      ],
      "metadata": {
        "colab": {
          "base_uri": "https://localhost:8080/"
        },
        "id": "_AQMCuru8xyM",
        "outputId": "cff7b210-843e-4bfd-86d0-186cbf6f836b"
      },
      "execution_count": 44,
      "outputs": [
        {
          "output_type": "stream",
          "name": "stderr",
          "text": [
            "/usr/local/lib/python3.10/dist-packages/keras/src/layers/core/dense.py:87: UserWarning: Do not pass an `input_shape`/`input_dim` argument to a layer. When using Sequential models, prefer using an `Input(shape)` object as the first layer in the model instead.\n",
            "  super().__init__(activity_regularizer=activity_regularizer, **kwargs)\n"
          ]
        },
        {
          "output_type": "stream",
          "name": "stdout",
          "text": [
            "0.004026900045573711\n"
          ]
        }
      ]
    },
    {
      "cell_type": "code",
      "source": [
        "# una vez entrenado el modelo realizamos las predicciones\n",
        "\n",
        "# observamos que tanto bathrooms como bedrooms todos sus valores son nulos, en este caso lo eliminamos\n",
        "airbnb_data_test = airbnb_data_test.drop(['bathrooms', 'bedrooms'], axis=1)\n",
        "\n",
        "# al no tener dato de bathrooms observamos en los datos que existe otra columna que se llama bathrooms_text sin valores nulos y contiene con texto de los bathrooms.\n",
        "# tienen muchas categorias asique en vez de codificarlo, obtamos por eliminar el texto quedandonos solo con el numero y convertirlo en float\n",
        "airbnb_data_test['bathrooms_text'] = airbnb_data_test['bathrooms_text'].str.extract(r'(\\d+(\\.\\d+)?)')[0].astype(float)\n",
        "\n",
        "# imputamos los valores nulos\n",
        "airbnb_data_test['beds'] = airbnb_data_test['beds'].fillna(airbnb_data_test['beds'].mean())\n",
        "\n",
        "airbnb_data_test['bathrooms_text'] = airbnb_data_test['bathrooms_text'].fillna(airbnb_data_test['bathrooms_text'].mean())\n",
        "\n",
        "\n",
        "airbnb_data_test['neighbourhood_cleansed_encoded'] = airbnb_data_test['neighbourhood_cleansed'].map(\n",
        "    airbnb_data_test.groupby('neighbourhood_cleansed')['price'].mean()\n",
        ")\n",
        "\n",
        "airbnb_data_test['property_type_encoded'] = airbnb_data_test['property_type'].map(\n",
        "    airbnb_data_test.groupby('property_type')['price'].mean()\n",
        ")\n",
        "\n",
        "airbnb_data_test['room_type_encoded'] = airbnb_data_test['room_type'].map(\n",
        "    airbnb_data_test.groupby('room_type')['price'].mean()\n",
        ")\n",
        "\n",
        "airbnb_data_test = airbnb_data_test.drop(['neighbourhood_cleansed', 'property_type', 'room_type',\"number_of_reviews\"], axis=1)\n",
        "\n",
        "# dividimos entra caracteristicas y etiquetas\n",
        "X_test = airbnb_data_test.drop('price', axis=1)\n",
        "y_test = airbnb_data_test['price']\n",
        "\n",
        "# escalamos las características\n",
        "scaler.fit(X_test)\n",
        "\n",
        "X_test_scaled = scaler.transform(X_test)\n",
        "\n",
        "\n"
      ],
      "metadata": {
        "id": "CKVWC76itY2v"
      },
      "execution_count": 54,
      "outputs": []
    },
    {
      "cell_type": "code",
      "source": [
        "# Realizar predicciones\n",
        "y_pred = model.predict(X_test_scaled)\n",
        "y_test = airbnb_data_test['price']\n",
        "# Evaluar las predicciones (por ejemplo, MAE)\n",
        "from sklearn.metrics import mean_absolute_error\n",
        "mae = mean_absolute_error(y_test, y_pred)\n",
        "print(f\"MAE en el conjunto de prueba: {mae}\")"
      ],
      "metadata": {
        "colab": {
          "base_uri": "https://localhost:8080/"
        },
        "id": "2_XSvC-4uoY_",
        "outputId": "be3b5581-a47e-42a5-82da-4b875dc980e5"
      },
      "execution_count": 52,
      "outputs": [
        {
          "output_type": "stream",
          "name": "stdout",
          "text": [
            "\u001b[1m20/20\u001b[0m \u001b[32m━━━━━━━━━━━━━━━━━━━━\u001b[0m\u001b[37m\u001b[0m \u001b[1m0s\u001b[0m 1ms/step \n",
            "MAE en el conjunto de prueba: 173.9428669849512\n"
          ]
        }
      ]
    }
  ]
}